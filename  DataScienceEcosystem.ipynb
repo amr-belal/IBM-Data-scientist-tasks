{
 "cells": [
  {
   "cell_type": "markdown",
   "id": "5651100b",
   "metadata": {},
   "source": [
    "# Data Science Tools and Ecosystem using \n"
   ]
  },
  {
   "cell_type": "markdown",
   "id": "5594c963",
   "metadata": {},
   "source": [
    "####  In this notebook, Data Science Tools and Ecosystem are summarized.\n"
   ]
  },
  {
   "cell_type": "markdown",
   "id": "1aa70745",
   "metadata": {},
   "source": [
    "* Some of the popular languages that Data Scientists use are:\n"
   ]
  },
  {
   "cell_type": "code",
   "execution_count": 2,
   "id": "247517fb",
   "metadata": {},
   "outputs": [
    {
     "data": {
      "text/plain": [
       "[1, 2, 3, 5]"
      ]
     },
     "execution_count": 2,
     "metadata": {},
     "output_type": "execute_result"
    }
   ],
   "source": [
    "list = [1,2,3,5]\n",
    "list"
   ]
  },
  {
   "cell_type": "code",
   "execution_count": 3,
   "id": "caf990ac",
   "metadata": {},
   "outputs": [],
   "source": [
    "import numpy as np \n",
    "import pandas as pd \n",
    "import matplotlib as plt "
   ]
  },
  {
   "cell_type": "markdown",
   "id": "05ea34f8",
   "metadata": {},
   "source": [
    "# Data Science Tools\n",
    "* Anaconda \n",
    "* watson studio \n",
    "* jupyter lab"
   ]
  },
  {
   "cell_type": "markdown",
   "id": "2736b200",
   "metadata": {},
   "source": [
    " ###  cell introducing arithmetic expression examples"
   ]
  },
  {
   "cell_type": "code",
   "execution_count": 4,
   "id": "4cfb6420",
   "metadata": {},
   "outputs": [
    {
     "data": {
      "text/plain": [
       "12.0"
      ]
     },
     "execution_count": 4,
     "metadata": {},
     "output_type": "execute_result"
    }
   ],
   "source": [
    "x = 3 \n",
    "y = 6 \n",
    "z= x+(y*3)/2\n",
    "z"
   ]
  },
  {
   "cell_type": "markdown",
   "id": "26182c36",
   "metadata": {},
   "source": [
    "### multiply and add numbers"
   ]
  },
  {
   "cell_type": "code",
   "execution_count": 8,
   "id": "0fab8083",
   "metadata": {},
   "outputs": [
    {
     "data": {
      "text/plain": [
       "30"
      ]
     },
     "execution_count": 8,
     "metadata": {},
     "output_type": "execute_result"
    }
   ],
   "source": [
    "x= 5 \n",
    "y= 6 \n",
    "z = x+y\n",
    "\n",
    "w = x*y\n",
    "\n",
    "w"
   ]
  },
  {
   "cell_type": "code",
   "execution_count": 9,
   "id": "c97e23de",
   "metadata": {},
   "outputs": [
    {
     "data": {
      "text/plain": [
       "11"
      ]
     },
     "execution_count": 9,
     "metadata": {},
     "output_type": "execute_result"
    }
   ],
   "source": [
    "z"
   ]
  },
  {
   "cell_type": "markdown",
   "id": "bd4c8d11",
   "metadata": {},
   "source": [
    "### hours to minuts \n"
   ]
  },
  {
   "cell_type": "code",
   "execution_count": 10,
   "id": "43712592",
   "metadata": {},
   "outputs": [
    {
     "data": {
      "text/plain": [
       "180"
      ]
     },
     "execution_count": 10,
     "metadata": {},
     "output_type": "execute_result"
    }
   ],
   "source": [
    "# hours \n",
    "x =3 \n",
    "# minutes\n",
    "y = x*60 \n",
    "y"
   ]
  },
  {
   "cell_type": "markdown",
   "id": "2d8259e5",
   "metadata": {},
   "source": [
    "###  List popular languages for Data Science."
   ]
  },
  {
   "cell_type": "code",
   "execution_count": 11,
   "id": "02f5ea6b",
   "metadata": {},
   "outputs": [
    {
     "data": {
      "text/plain": [
       "['python ', 'c#', 'java ', 'R ', 'Ruby']"
      ]
     },
     "execution_count": 11,
     "metadata": {},
     "output_type": "execute_result"
    }
   ],
   "source": [
    "lang = [\"python \" , \"c#\" , \"java \" , \"R \" , \"Ruby\"]\n",
    "lang "
   ]
  },
  {
   "cell_type": "markdown",
   "id": "1db8da4b",
   "metadata": {},
   "source": [
    "## author's details \n",
    "> *Amr belal*"
   ]
  },
  {
   "cell_type": "markdown",
   "id": "c1cfd47e",
   "metadata": {},
   "source": []
  }
 ],
 "metadata": {
  "kernelspec": {
   "display_name": "Python 3 (ipykernel)",
   "language": "python",
   "name": "python3"
  },
  "language_info": {
   "codemirror_mode": {
    "name": "ipython",
    "version": 3
   },
   "file_extension": ".py",
   "mimetype": "text/x-python",
   "name": "python",
   "nbconvert_exporter": "python",
   "pygments_lexer": "ipython3",
   "version": "3.11.5"
  }
 },
 "nbformat": 4,
 "nbformat_minor": 5
}
